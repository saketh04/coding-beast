{
  "nbformat": 4,
  "nbformat_minor": 0,
  "metadata": {
    "colab": {
      "name": "SOLID Principles",
      "provenance": [],
      "authorship_tag": "ABX9TyNpQclIr9lenNYvJrQ0MMGd",
      "include_colab_link": true
    },
    "kernelspec": {
      "name": "python3",
      "display_name": "Python 3"
    },
    "language_info": {
      "name": "python"
    }
  },
  "cells": [
    {
      "cell_type": "markdown",
      "metadata": {
        "id": "view-in-github",
        "colab_type": "text"
      },
      "source": [
        "<a href=\"https://colab.research.google.com/github/saketh04/coding-beast/blob/master/SOLID_Principles.ipynb\" target=\"_parent\"><img src=\"https://colab.research.google.com/assets/colab-badge.svg\" alt=\"Open In Colab\"/></a>"
      ]
    },
    {
      "cell_type": "code",
      "execution_count": null,
      "metadata": {
        "id": "23icOF7J6FT2"
      },
      "outputs": [],
      "source": [
        "# Single Responsibility Principle\n",
        "\n",
        "class employee:\n",
        "    def __init__(self,id,role):\n",
        "        self.id=id\n",
        "        self.role=role\n",
        "    def get_id(self):\n",
        "        pass\n",
        "    def get_role(self):\n",
        "        pass\n",
        "    def sal(self):\n",
        "      pass\n",
        "class employeedb:\n",
        "    def savedb(self,id,role):\n",
        "        pass\n",
        "\n",
        "# Open Close Principle, Liskov Substitution Principle, Interface Segregation Principle,\n",
        "# Dependency inversion principle \n",
        "\n",
        "class dev(employee):\n",
        "    def sal(self):\n",
        "        return 100000\n",
        "    def skills(self):\n",
        "        pass\n",
        "class tester(employee):\n",
        "    def sal(self):\n",
        "        return 60000\n",
        "    def skills(self):\n",
        "        pass\n",
        "class analyst(employee):\n",
        "    def sal(self):\n",
        "        return 75000\n",
        "    def skills(self):\n",
        "        pass\n"
      ]
    }
  ]
}